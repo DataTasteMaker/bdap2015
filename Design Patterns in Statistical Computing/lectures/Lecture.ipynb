{
 "cells": [
  {
   "cell_type": "markdown",
   "metadata": {},
   "source": [
    "# Design Patterns in Statistical Computing 1\n",
    "## Introduction to Statistical Programming Languages"
   ]
  },
  {
   "cell_type": "markdown",
   "metadata": {},
   "source": [
    "### What qualifies as a Statistical Programming Language?\n",
    "* Fortran\n",
    "* Excel\n",
    "* SAS\n",
    "* Matlab\n",
    "* S and S-Plus\n",
    "* R\n",
    "* Python\n",
    "* Julia\n",
    "* Spark"
   ]
  },
  {
   "cell_type": "markdown",
   "metadata": {},
   "source": [
    "### Central Ideas\n",
    "\n",
    "* Vectors and Vectorization\n",
    "* DataFrames\n",
    "* Aggregation\n",
    "* Grammar of Graphics"
   ]
  },
  {
   "cell_type": "markdown",
   "metadata": {},
   "source": [
    "### Tools we'll use\n",
    "\n",
    "* R: [Dplyr](https://cran.rstudio.com/web/packages/dplyr/vignettes/introduction.html)\n",
    "* Python: [Pandas](http://pandas.pydata.org/)"
   ]
  },
  {
   "cell_type": "markdown",
   "metadata": {},
   "source": [
    "## What is Vectorization and Why it matters?"
   ]
  },
  {
   "cell_type": "markdown",
   "metadata": {},
   "source": [
    "## DataFrames and their Origin"
   ]
  },
  {
   "cell_type": "markdown",
   "metadata": {},
   "source": [
    "Data Frames are basically tables. [Codd, E.F.](https://en.wikipedia.org/wiki/Edgar_F._Codd) in 1970 defined [Relational algebra](https://en.wikipedia.org/wiki/Relational_algebra) as the basic the theory to work on relational tables. It defines the following operations:\n",
    "\n",
    "* Projection (π): Filter by columns\n",
    "* Selection (σ): Filter by rows\n",
    "* Rename (ρ)\n",
    "* Set operators (union, difference, cartesian product)\n",
    "* Natural join (⋈)\n",
    "\n",
    "SQL dialects also added the following\n",
    "\n",
    "* Aggregations\n",
    "* Group by operations\n",
    "\n",
    "Why we care? People redefined these basic operations over and over in the last 40 years starting with SQL until today latest query languages. Using this framework will give us a general basic perspective on the data manipulation in the two frameworks.\n",
    "\n",
    "To the list above, we'll also add the most basic operation:\n",
    "\n",
    "* Creating Summaries"
   ]
  }
 ],
 "metadata": {
  "kernelspec": {
   "display_name": "R",
   "language": "R",
   "name": "ir"
  },
  "language_info": {
   "codemirror_mode": "r",
   "file_extension": ".r",
   "mimetype": "text/x-r-source",
   "name": "R",
   "pygments_lexer": "r",
   "version": "3.2.2"
  }
 },
 "nbformat": 4,
 "nbformat_minor": 0
}
