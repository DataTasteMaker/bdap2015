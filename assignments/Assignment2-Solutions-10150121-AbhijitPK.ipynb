{
 "cells": [
  {
   "cell_type": "markdown",
   "metadata": {},
   "source": [
    "Please fill up the following\n",
    "* **Student Name:** Abhijit Khuperkar\n",
    "* **Student ID:** 10150121\n",
    "* **Student Email ID:** abhijit.bdapm10150121@spjain.org\n",
    "* **Student GitHub Repo:** https://github.com/akhuperkar"
   ]
  },
  {
   "cell_type": "markdown",
   "metadata": {},
   "source": [
    "# DPSC Assignment 2"
   ]
  },
  {
   "cell_type": "markdown",
   "metadata": {},
   "source": [
    "## Instructions\n",
    "\n",
    "For each of the tasks below, write relevant R code in the cells and execute the cells before submission."
   ]
  },
  {
   "cell_type": "markdown",
   "metadata": {},
   "source": [
    "### Problem 1\n",
    "\n",
    "Consider a digital clock that shows hours and minutes. The day start at 00:00 and ends at 24:00. Assume\n",
    "that the four digits shown in the clock actually is one single number. For example 13:15 is to be interpreted\n",
    "as 1315. How many prime numbers are shown by the digital clock in a day?"
   ]
  },
  {
   "cell_type": "code",
   "execution_count": 1,
   "metadata": {
    "collapsed": false
   },
   "outputs": [
    {
     "name": "stdout",
     "output_type": "stream",
     "text": [
      "No of prime numbers shown by the clock in a day: 357"
     ]
    }
   ],
   "source": [
    "prime <- function(n){\n",
    "    p <- 2:n\n",
    "    i <- 1\n",
    "    while (p[i] <= n/2) {\n",
    "        p <-  p[p %% p[i] != 0 | p==p[i]]\n",
    "        i <- i+1\n",
    "    }\n",
    "    p\n",
    "}\n",
    "p <- length(prime(2400))\n",
    "cat(\"No of prime numbers shown by the clock in a day:\", p)"
   ]
  },
  {
   "cell_type": "markdown",
   "metadata": {},
   "source": [
    "### Problem 2\n",
    "\n",
    "Two friends, A & B, meet every evening and play three games of speed-chess. After the three games, the two\n",
    "friends record the outcomes in a file. A sample illustration of the file is given below, for 4 days:\n",
    "\n",
    "game no| day1 | day2 | day3 | day4\n",
    "-------|------|------|------|------\n",
    "game 1 | 1    | 2    | 1    | 2\n",
    "game 2 | 2    | 2    | 1    | 2\n",
    "game 3 | 1    | 1    | 2    | 2\n",
    "\n",
    "\n",
    "* If A wins, the outcome is coded as 1.\n",
    "* If B wins, the outcome is coded as 2.\n",
    "\n",
    "At the end of three games, the person who wins the maximum number (at least 2 out of 3) is deemed the winner of the day. Assume there is never a draw between the two. The outcomes for each day are stored in **assignment2-q2.csv**.\n",
    "\n",
    "Read the datafile in to your workspace and answer the following questions:\n",
    "\n",
    "* For how long have the friends kept a record of their games?\n",
    "* How many days does B become winner of the day?\n",
    "* How many days did the two friends play the third game, despite knowing the winner of day?"
   ]
  },
  {
   "cell_type": "code",
   "execution_count": 4,
   "metadata": {
    "collapsed": false
   },
   "outputs": [
    {
     "name": "stdout",
     "output_type": "stream",
     "text": [
      "1.No of days when the games were recorded: 500 days \n",
      "2.No of days when B became winner of the day: 238 days \n",
      "3.No of days the third game was played despite knowing the winner of the day: 252 days"
     ]
    }
   ],
   "source": [
    "# Read the datafile in to your workspace and answer the following questions:\n",
    "chess <- read.csv(\"/home/akhuperkar/bdap2015/data/assignment2-q2.csv\", header = TRUE)\n",
    "\n",
    "# For how long have the friends kept a record of their games?\n",
    "d <- ncol(chess)\n",
    "cat(\"1.No of days when the games were recorded:\", d, \"days\", '\\n')\n",
    "\n",
    "# How many days does B become winner of the day?\n",
    "i = 1\n",
    "B = 0\n",
    "while (i<=500) {\n",
    "    if (sum(chess[,i])>=5)\n",
    "        B = B + 1\n",
    "i = i + 1\n",
    "}\n",
    "cat(\"2.No of days when B became winner of the day:\", B, \"days\", '\\n')\n",
    "\n",
    "# How many days did the two friends play the third game, despite knowing the winner of day?\n",
    "i = 1\n",
    "C = 0\n",
    "while (i<=500) {\n",
    "    if (chess[1,i]==chess[2,i])\n",
    "        C = C + 1\n",
    "    i = i + 1\n",
    "}\n",
    "cat(\"3.No of days the third game was played despite knowing the winner of the day:\", C, \"days\")"
   ]
  }
 ],
 "metadata": {
  "kernelspec": {
   "display_name": "R",
   "language": "R",
   "name": "ir"
  },
  "language_info": {
   "codemirror_mode": "r",
   "file_extension": ".r",
   "mimetype": "text/x-r-source",
   "name": "R",
   "pygments_lexer": "r",
   "version": "3.2.2"
  }
 },
 "nbformat": 4,
 "nbformat_minor": 0
}
