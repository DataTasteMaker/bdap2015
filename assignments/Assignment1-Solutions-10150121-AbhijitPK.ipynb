{
 "cells": [
  {
   "cell_type": "markdown",
   "metadata": {},
   "source": [
    "Please fill up the following\n",
    "* **Student Name:** Abhijit Khuperkar\n",
    "* **Student ID:** 10150121\n",
    "* **Student Email ID:** abhijit.bdapm10150121@spjain.org\n",
    "* **Student GitHub Repo:** https://github.com/akhuperkar"
   ]
  },
  {
   "cell_type": "markdown",
   "metadata": {},
   "source": [
    "# DPSC Assignment 1"
   ]
  },
  {
   "cell_type": "markdown",
   "metadata": {},
   "source": [
    "## Instructions\n",
    "\n",
    "For each of the tasks below, write relevant R code in the cells and execute the cells before submission."
   ]
  },
  {
   "cell_type": "markdown",
   "metadata": {},
   "source": [
    "### Problem 1\n",
    "\n",
    "Is the following a DataFrame?"
   ]
  },
  {
   "cell_type": "markdown",
   "metadata": {
    "collapsed": true
   },
   "source": [
    "control | pre-heated | pre-chilled\n",
    "-------- | ---------- | ----------\n",
    "5.9 | 5.8  | 6.1\n",
    "6.2 | 7.3  | 6.3\n",
    "8.2 | 5.4  | 7.1\n",
    "5.8 | 6.3  | 6.9"
   ]
  },
  {
   "cell_type": "markdown",
   "metadata": {},
   "source": [
    "**Ans: ** \n",
    "* The above dataset is not a DataFrame. Key observations - \n",
    "  - The dataset has two distinct variables - 1) Temperature type, 2) Temperature\n",
    "  - The dataset does not qualify as dataframe, as data is not organized by the two distinct variables \n",
    "* To qualify as a dataframe, the dataset can be transformed as follows\n",
    "\n",
    "Temperature Type | Temperature \n",
    "-------- | ---------- \n",
    "contol | 5.9  \n",
    "contol | 6.2  \n",
    "contol | 8.2  \n",
    "contol | 5.8  \n",
    "pre-heated | 5.8  \n",
    "pre-heated | 7.3  \n",
    "pre-heated | 5.4  \n",
    "pre-heated | 6.3  \n",
    "pre-chilled | 6.1\n",
    "pre-chilled | 6.3\n",
    "pre-chilled | 7.1\n",
    "pre-chilled | 6.9\n"
   ]
  },
  {
   "cell_type": "markdown",
   "metadata": {},
   "source": [
    "### Problem 2\n",
    "\n",
    "Import the *titanic.csv* file (present in the *data* folder of the repository, don't move it elsewhere or your pull request will be rejected) and create a statistical summary of the variables. Read the DataFrame into a variable called *titanic*."
   ]
  },
  {
   "cell_type": "code",
   "execution_count": 1,
   "metadata": {
    "collapsed": false
   },
   "outputs": [
    {
     "data": {
      "text/plain": [
       "  PassengerId    Survived Pclass                                     Name    \n",
       " Min.   :  1.0   0:549    1:216   Abbing, Mr. Anthony                  :  1  \n",
       " 1st Qu.:223.5   1:342    2:184   Abbott, Mr. Rossmore Edward          :  1  \n",
       " Median :446.0            3:491   Abbott, Mrs. Stanton (Rosa Hunt)     :  1  \n",
       " Mean   :446.0                    Abelson, Mr. Samuel                  :  1  \n",
       " 3rd Qu.:668.5                    Abelson, Mrs. Samuel (Hannah Wizosky):  1  \n",
       " Max.   :891.0                    Adahl, Mr. Mauritz Nils Martin       :  1  \n",
       "                                  (Other)                              :885  \n",
       "     Sex           Age        SibSp   Parch        Ticket         Fare       \n",
       " female:314   Min.   : 0.42   0:608   0:678   1601    :  7   Min.   :  0.00  \n",
       " male  :577   1st Qu.:20.12   1:209   1:118   347082  :  7   1st Qu.:  7.91  \n",
       "              Median :28.00   2: 28   2: 80   CA. 2343:  7   Median : 14.45  \n",
       "              Mean   :29.70   3: 16   3:  5   3101295 :  6   Mean   : 32.20  \n",
       "              3rd Qu.:38.00   4: 18   4:  4   347088  :  6   3rd Qu.: 31.00  \n",
       "              Max.   :80.00   5:  5   5:  5   CA 2144 :  6   Max.   :512.33  \n",
       "              NA's   :177     8:  7   6:  1   (Other) :852                   \n",
       "         Cabin     Embarked\n",
       "            :687    :  2   \n",
       " B96 B98    :  4   C:168   \n",
       " C23 C25 C27:  4   Q: 77   \n",
       " G6         :  4   S:644   \n",
       " C22 C26    :  3           \n",
       " D          :  3           \n",
       " (Other)    :186           "
      ]
     },
     "execution_count": 1,
     "metadata": {},
     "output_type": "execute_result"
    }
   ],
   "source": [
    "# reading the fil using read.csv function\n",
    "titanic <- read.csv(\"/home/akhuperkar/bdap2015/data/titanic.csv\", header = TRUE, stringsAsFactors = TRUE)\n",
    "\n",
    "# note the numeric values of the variables including 'Survived', 'Pclass', 'SibSp', 'Parch' actually represent \n",
    "# the categorical levels. Hence, coercing these variables into factors.\n",
    "titanic$Survived <- as.factor(titanic$Survived) #two levels for 'Survived', coerced numeric codes as factors \n",
    "titanic$Pclass <- as.factor(titanic$Pclass)     #three levels for 'Pclass', coerced numeric codes as factors\n",
    "titanic$SibSp <- as.factor(titanic$SibSp)       #seven levels for 'SibSp', coerced numeric codes as factors\n",
    "titanic$Parch <- as.factor(titanic$Parch)       #seven levels for 'Parch', coerced numeric codes as factors \n",
    "\n",
    "# generating statistical summary for variables\n",
    "summary(titanic)"
   ]
  },
  {
   "cell_type": "markdown",
   "metadata": {},
   "source": [
    "### Problem 3\n",
    "\n",
    "For the DataFrame *titanic*\n",
    "\n",
    "* Calculate the mean of all the numeric columns.\n",
    "* Add its column sums to the original matrix as an additional row. Use *NA* for non-numeric columns."
   ]
  },
  {
   "cell_type": "code",
   "execution_count": 2,
   "metadata": {
    "collapsed": false
   },
   "outputs": [
    {
     "data": {
      "text/html": [
       "<table>\n",
       "<thead><tr><th scope=col>PassengerId</th><th scope=col>Survived</th><th scope=col>Pclass</th><th scope=col>Name</th><th scope=col>Sex</th><th scope=col>Age</th><th scope=col>SibSp</th><th scope=col>Parch</th><th scope=col>Ticket</th><th scope=col>Fare</th><th scope=col>Cabin</th><th scope=col>Embarked</th></tr></thead>\n",
       "<tbody>\n",
       "\t<tr><td> TRUE</td><td>FALSE</td><td>FALSE</td><td>FALSE</td><td>FALSE</td><td> TRUE</td><td>FALSE</td><td>FALSE</td><td>FALSE</td><td> TRUE</td><td>FALSE</td><td>FALSE</td></tr>\n",
       "</tbody>\n",
       "</table>\n"
      ],
      "text/latex": [
       "\\begin{tabular}{llllllllllll}\n",
       " PassengerId & Survived & Pclass & Name & Sex & Age & SibSp & Parch & Ticket & Fare & Cabin & Embarked\\\\\n",
       "\\hline\n",
       "\t  TRUE & FALSE & FALSE & FALSE & FALSE &  TRUE & FALSE & FALSE & FALSE &  TRUE & FALSE & FALSE\\\\\n",
       "\\end{tabular}\n"
      ],
      "text/markdown": [
       "1. TRUE\n",
       "2. FALSE\n",
       "3. FALSE\n",
       "4. FALSE\n",
       "5. FALSE\n",
       "6. TRUE\n",
       "7. FALSE\n",
       "8. FALSE\n",
       "9. FALSE\n",
       "10. TRUE\n",
       "11. FALSE\n",
       "12. FALSE\n",
       "\n",
       "\n"
      ],
      "text/plain": [
       "     PassengerId Survived Pclass  Name   Sex  Age SibSp Parch Ticket Fare Cabin\n",
       "[1,]        TRUE    FALSE  FALSE FALSE FALSE TRUE FALSE FALSE  FALSE TRUE FALSE\n",
       "     Embarked\n",
       "[1,]    FALSE"
      ]
     },
     "execution_count": 2,
     "metadata": {},
     "output_type": "execute_result"
    },
    {
     "data": {
      "text/html": [
       "<table>\n",
       "<thead><tr><th></th><th scope=col>PassengerId</th><th scope=col>Survived</th><th scope=col>Pclass</th><th scope=col>Name</th><th scope=col>Sex</th><th scope=col>Age</th><th scope=col>SibSp</th><th scope=col>Parch</th><th scope=col>Ticket</th><th scope=col>Fare</th><th scope=col>Cabin</th><th scope=col>Embarked</th></tr></thead>\n",
       "<tbody>\n",
       "\t<tr><th scope=row>887</th><td>887</td><td>0</td><td>2</td><td>Montvila, Rev. Juozas</td><td>male</td><td>27</td><td>0</td><td>0</td><td>211536</td><td>13</td><td></td><td>S</td></tr>\n",
       "\t<tr><th scope=row>888</th><td>888</td><td>1</td><td>1</td><td>Graham, Miss. Margaret Edith</td><td>female</td><td>19</td><td>0</td><td>0</td><td>112053</td><td>30</td><td>B42</td><td>S</td></tr>\n",
       "\t<tr><th scope=row>889</th><td>889</td><td>0</td><td>3</td><td>Johnston, Miss. Catherine Helen \"Carrie\"</td><td>female</td><td>NA</td><td>1</td><td>2</td><td>W./C. 6607</td><td>23.45</td><td></td><td>S</td></tr>\n",
       "\t<tr><th scope=row>890</th><td>890</td><td>1</td><td>1</td><td>Behr, Mr. Karl Howell</td><td>male</td><td>26</td><td>0</td><td>0</td><td>111369</td><td>30</td><td>C148</td><td>C</td></tr>\n",
       "\t<tr><th scope=row>891</th><td>891</td><td>0</td><td>3</td><td>Dooley, Mr. Patrick</td><td>male</td><td>32</td><td>0</td><td>0</td><td>370376</td><td>7.75</td><td></td><td>Q</td></tr>\n",
       "\t<tr><th scope=row>892</th><td>NA</td><td>NA</td><td>NA</td><td>NA</td><td>NA</td><td>29.7</td><td>NA</td><td>NA</td><td>NA</td><td>32.2</td><td>NA</td><td>NA</td></tr>\n",
       "</tbody>\n",
       "</table>\n"
      ],
      "text/latex": [
       "\\begin{tabular}{r|llllllllllll}\n",
       "  & PassengerId & Survived & Pclass & Name & Sex & Age & SibSp & Parch & Ticket & Fare & Cabin & Embarked\\\\\n",
       "\\hline\n",
       "\t887 & 887 & 0 & 2 & Montvila, Rev. Juozas & male & 27 & 0 & 0 & 211536 & 13 &  & S\\\\\n",
       "\t888 & 888 & 1 & 1 & Graham, Miss. Margaret Edith & female & 19 & 0 & 0 & 112053 & 30 & B42 & S\\\\\n",
       "\t889 & 889 & 0 & 3 & Johnston, Miss. Catherine Helen \"Carrie\" & female & NA & 1 & 2 & W./C. 6607 & 23.45 &  & S\\\\\n",
       "\t890 & 890 & 1 & 1 & Behr, Mr. Karl Howell & male & 26 & 0 & 0 & 111369 & 30 & C148 & C\\\\\n",
       "\t891 & 891 & 0 & 3 & Dooley, Mr. Patrick & male & 32 & 0 & 0 & 370376 & 7.75 &  & Q\\\\\n",
       "\t892 & NA & NA & NA & NA & NA & 29.7 & NA & NA & NA & 32.2 & NA & NA\\\\\n",
       "\\end{tabular}\n"
      ],
      "text/plain": [
       "    PassengerId Survived Pclass                                     Name    Sex\n",
       "887         887        0      2                    Montvila, Rev. Juozas   male\n",
       "888         888        1      1             Graham, Miss. Margaret Edith female\n",
       "889         889        0      3 Johnston, Miss. Catherine Helen \"Carrie\" female\n",
       "890         890        1      1                    Behr, Mr. Karl Howell   male\n",
       "891         891        0      3                      Dooley, Mr. Patrick   male\n",
       "892          NA     <NA>   <NA>                                     <NA>   <NA>\n",
       "     Age SibSp Parch     Ticket  Fare Cabin Embarked\n",
       "887 27.0     0     0     211536 13.00              S\n",
       "888 19.0     0     0     112053 30.00   B42        S\n",
       "889   NA     1     2 W./C. 6607 23.45              S\n",
       "890 26.0     0     0     111369 30.00  C148        C\n",
       "891 32.0     0     0     370376  7.75              Q\n",
       "892 29.7  <NA>  <NA>       <NA> 32.20  <NA>     <NA>"
      ]
     },
     "execution_count": 2,
     "metadata": {},
     "output_type": "execute_result"
    }
   ],
   "source": [
    "# Identifying numeric columns of 'titanic' dataframe\n",
    "nums <- sapply(titanic, is.numeric)\n",
    "t(nums)                          # prints logical values of the numeric columns\n",
    "\n",
    "# Extracting means for Age amd Fare, which are the only numeric variables \n",
    "a <- summary(titanic$Age)[\"Mean\"]\n",
    "f <- summary(titanic$Fare)[\"Mean\"]\n",
    "\n",
    "# Creating a vector of means of all columns\n",
    "means <- as.vector(c(NA, NA, NA, NA, NA, a, NA, NA, NA, f, NA, NA))\n",
    "\n",
    "# Adding means vector to the dataframe\n",
    "titanicM <- rbind(titanic, means)\n",
    "tail(titanicM)                   # column means appended as last row #892 into the dataframe "
   ]
  }
 ],
 "metadata": {
  "kernelspec": {
   "display_name": "R",
   "language": "R",
   "name": "ir"
  },
  "language_info": {
   "codemirror_mode": "r",
   "file_extension": ".r",
   "mimetype": "text/x-r-source",
   "name": "R",
   "pygments_lexer": "r",
   "version": "3.2.2"
  }
 },
 "nbformat": 4,
 "nbformat_minor": 0
}
